{
 "cells": [
  {
   "cell_type": "markdown",
   "metadata": {},
   "source": [
    "# Handling Categorical Data\n",
    "## Basic bar charts using the hbar() and vbar()"
   ]
  },
  {
   "cell_type": "code",
   "execution_count": 10,
   "metadata": {},
   "outputs": [],
   "source": [
    "#Import library\n",
    "from bokeh.palettes import Spectral6\n",
    "from bokeh.plotting import figure,output_file, show\n",
    "#set output formate\n",
    "output_file(\"bars.html\")\n",
    "counts = [5, 3, 4, 2, 4, 6] # Y axis Data\n",
    "fruits = ['Apples', 'Pears', 'Nectarines', 'Plums', 'Grapes', 'Strawberries']\n",
    "#To inform Bokeh that the x-axis is categorical, we pass this list of factors as the x_range argument to figure():\n",
    "#p = figure(x_range=fruits, ... )\n",
    "# t0 short data\n",
    "\n",
    "# sorting the bars means sorting the range factors\n",
    "sorted_fruits = sorted(fruits, key=lambda x: counts[fruits.index(x)])\n",
    "\n",
    "p = figure(x_range=sorted_fruits, plot_height=250, title=\"Fruit Counts\",\n",
    "           toolbar_location=None, tools=\"\")\n",
    "p.vbar(x=fruits, top=counts,color=Spectral6, width=0.9)\n",
    "p.xgrid.grid_line_color = None\n",
    "p.y_range.start = 0\n",
    "show(p)"
   ]
  },
  {
   "cell_type": "markdown",
   "metadata": {},
   "source": [
    "### Colors\n",
    "This can be done by putting all the data, including the colors for each bar, in a ColumnDataSource. Then the name of the column containing the colors is passed to vbar as the color (or line_color/fill_color) arguments. "
   ]
  },
  {
   "cell_type": "code",
   "execution_count": 13,
   "metadata": {},
   "outputs": [],
   "source": [
    "# import ColumnDataSource\n",
    "from bokeh.models import ColumnDataSource\n",
    "data=dict(fruits=fruits, counts=counts, color=Spectral6)\n",
    "source = ColumnDataSource(data)\n",
    "p = figure(x_range=fruits, y_range=(0,9),\n",
    "           plot_height=250, title=\"Fruit Counts\",\n",
    "           toolbar_location=None, tools=\"\")\n",
    "p.vbar(x='fruits', top='counts', width=0.9, color='color', legend_field=\"fruits\", source=source)\n",
    "p.xgrid.grid_line_color = None\n",
    "p.legend.orientation = \"horizontal\" # for horizontal label\n",
    "p.legend.location = \"top_center\" # lagend label position\n",
    "show(p)"
   ]
  },
  {
   "cell_type": "code",
   "execution_count": null,
   "metadata": {},
   "outputs": [],
   "source": []
  }
 ],
 "metadata": {
  "kernelspec": {
   "display_name": "Python 3",
   "language": "python",
   "name": "python3"
  },
  "language_info": {
   "codemirror_mode": {
    "name": "ipython",
    "version": 3
   },
   "file_extension": ".py",
   "mimetype": "text/x-python",
   "name": "python",
   "nbconvert_exporter": "python",
   "pygments_lexer": "ipython3",
   "version": "3.8.3"
  }
 },
 "nbformat": 4,
 "nbformat_minor": 4
}
