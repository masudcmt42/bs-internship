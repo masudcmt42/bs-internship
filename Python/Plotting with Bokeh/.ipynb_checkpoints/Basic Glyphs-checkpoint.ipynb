{
 "cells": [
  {
   "cell_type": "markdown",
   "metadata": {},
   "source": [
    "## Basic Glyphs\n",
    "## 1. Scatter Markers\n",
    "scatter marker marks a point or virtex using different shape. there are so many markers. few example are below."
   ]
  },
  {
   "cell_type": "code",
   "execution_count": 26,
   "metadata": {},
   "outputs": [],
   "source": [
    "from bokeh.plotting import figure, output_file, show\n",
    "\n",
    "#set output file\n",
    "output_file(\"out.html\", title=\" examle of scatter markses\")\n",
    "#make a plot with figure \n",
    "p = figure(plot_width=400, plot_height=400)\n",
    "#add circle markes render with a size color and aloha\n",
    "p.circle([1, 2, 3, 4, 5], [6, 7, 2, 4, 5], size=10, color=\"navy\", alpha=0.31)\n",
    "p.square([1, 2, 3, 4, 5], [6, 7, 2, 4, 5], size=10, color=\"navy\", alpha=0.31)\n",
    "p.oval(x=[1, 2, 3], y=[1, 2, 3], width=0.2, height=0.4,\n",
    "          angle=-0.7, color=\"#1D91C0\")\n",
    "p.plus( [6, 7, 2, 4, 5],[1, 2, 3, 4, 5], size=10, color=\"navy\", alpha=0.31,angle=-0.7)\n",
    "p.patches(xs=[[1,2,3],[4,5,6,5]], ys=[[1,2,1],[4,5,5,4]],\n",
    "          color=[\"#43a2ca\", \"#a8ddb5\"])\n",
    "\n",
    "#show the result\n",
    "show(p)"
   ]
  },
  {
   "cell_type": "markdown",
   "metadata": {},
   "source": [
    "## 2. Line Glyphs\n",
    "#### Single Lines\n",
    "here is an example of single line"
   ]
  },
  {
   "cell_type": "code",
   "execution_count": 48,
   "metadata": {},
   "outputs": [],
   "source": [
    "output_file(\"out.html\", title=\"SIngle line\")\n",
    "ln= figure(plot_height=400,plot_width=400)\n",
    "ln.line([1, 2, 3, 4, 5], [6, 7, 2, 4, 5], line_width=2)\n",
    "# stape line\n",
    "ln.step([1, 2, 3, 4, 5], [6, 7, 2, 4, 5], line_width=2, color='navy', mode=\"center\")\n",
    "# add a line renderer with a NaN (missing point)\n",
    "nan = float('nan')\n",
    "ln.line([1, 2, 3, 3.5,4,4.5, 5, 6],[1, 2, 3,3.5, nan, 4.5, 5, 6],\n",
    "        line_width=2, color='orange')\n",
    "show(ln)"
   ]
  },
  {
   "cell_type": "markdown",
   "metadata": {},
   "source": [
    "#### Multiple Lines\n",
    "his can be accomplished with the multi_line() glyph method:"
   ]
  },
  {
   "cell_type": "code",
   "execution_count": 29,
   "metadata": {},
   "outputs": [],
   "source": [
    "output_file(\"out.html\", title=\"multi line\")\n",
    "ml= figure(plot_height=400,plot_width=400)\n",
    "ml.multi_line([[1, 3, 2], [3, 4, 6, 6]],\n",
    "              [[2, 1, 4], [4, 7, 8, 5]],\n",
    "              color=[\"firebrick\", \"navy\"],\n",
    "              alpha=[0.8, 0.3],\n",
    "              line_width=[2,4])\n",
    "show(ml)"
   ]
  },
  {
   "cell_type": "markdown",
   "metadata": {},
   "source": [
    "#### Stacked Lines\n",
    "he vline_stack() and hline_stack() convenience methods can be used to accomplish this. Note that these methods stack columns from an explicitly supplied [ColumnDataSource](Providing%20Data.ipynb#ColumnDataSource)"
   ]
  },
  {
   "cell_type": "code",
   "execution_count": 62,
   "metadata": {},
   "outputs": [],
   "source": [
    "from bokeh.models import ColumnDataSource as cds\n",
    "output_file(\"out.html\", title=\"stacked Line\")\n",
    "# we need a columnDataSource data frame\n",
    "source=cds(data=dict(x=[1, 2, 3, 4, 5],\n",
    "                     y1=[1, 2, 4, 3, 4],\n",
    "                     y2=[1, 4, 2, 2, 3]))\n",
    "sl=figure(width=400,height=400)\n",
    "sl.vline_stack(['y1', 'y1'],x='x',source=source)\n",
    "show(sl)\n"
   ]
  },
  {
   "cell_type": "code",
   "execution_count": 64,
   "metadata": {},
   "outputs": [],
   "source": [
    "del(source)"
   ]
  },
  {
   "cell_type": "code",
   "execution_count": 65,
   "metadata": {},
   "outputs": [],
   "source": [
    "source=cds(data=dict(x=[1, 2, 3, 4, 5],\n",
    "                     y1=[1, 2, 4, 3, 4],\n",
    "                     y2=[1, 4, 2, 2, 3]))\n",
    "slh=figure(width=400,height=400)\n",
    "slh.hline_stack(['y1', 'y1'],y='x',source=source)\n",
    "show(slh)"
   ]
  },
  {
   "cell_type": "markdown",
   "metadata": {},
   "source": [
    "## Bars and Rectangles\n",
    "#### Bar\n",
    "Bokeh provides the hbar() and vbar() glyphs function for this purpose.\n",
    "To draw vertical bars by specifying a (center) x-coordinate, width, and top and bottom endpoints, use the vbar() glyph function:"
   ]
  },
  {
   "cell_type": "code",
   "execution_count": 71,
   "metadata": {},
   "outputs": [],
   "source": [
    "vb=figure(width=400,height=400)\n",
    "vb.vbar(x=[1,2,3],top=[1.2,2.4,3.7], width=0.3, bottom=0)\n",
    "show(vb)"
   ]
  },
  {
   "cell_type": "code",
   "execution_count": null,
   "metadata": {},
   "outputs": [],
   "source": []
  }
 ],
 "metadata": {
  "kernelspec": {
   "display_name": "Python 3",
   "language": "python",
   "name": "python3"
  },
  "language_info": {
   "codemirror_mode": {
    "name": "ipython",
    "version": 3
   },
   "file_extension": ".py",
   "mimetype": "text/x-python",
   "name": "python",
   "nbconvert_exporter": "python",
   "pygments_lexer": "ipython3",
   "version": "3.8.3"
  }
 },
 "nbformat": 4,
 "nbformat_minor": 4
}
