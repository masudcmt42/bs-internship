{
 "cells": [
  {
   "cell_type": "markdown",
   "metadata": {},
   "source": [
    "# Jupyter notebook Practices\n",
    "this is a simple text\n",
    "prass a to add row\n",
    "## Basic introduction to markdown cell and code cell \n",
    "#### this is a simple markdown cell.\n",
    "you can have:\n",
    "1. list(order and unorder)\n",
    "2. bold text\n",
    "3. italic text\n",
    "4. code blocks\n",
    "5. and many more chaet code\n",
    "to see more cheat visite <a href = \"https://www.markdownguide.org/cheat-sheet/\"> markdownguide.org.</a> and <a href = \"https://github.com/adam-p/markdown-here/wiki/Markdown-Cheatsheet\"> github.</a>\n",
    "\n",
    "here is a example of code blocks\n",
    "```\n",
    "x = \"Hello World\"\n",
    "print(x)\n",
    "```\n",
    "#### Emphasis\n",
    "Emphasis, aka italics, with *asterisks* or _underscores_.\n",
    "\n",
    "Strong emphasis, aka bold, with **asterisks** or __underscores__.\n",
    "\n",
    "Combined emphasis with **asterisks and _underscores_**.\n",
    "\n",
    "Strikethrough uses two tildes. ~~Scratch this.~~\n",
    "\n",
    "#### Lists\n",
    "**Orderd list**\n",
    "1. First item\n",
    "2. Second item\n",
    "3. Third item\n",
    "    1. Indented item\n",
    "    2. Indented item\n",
    "4. Fourth item \n",
    "\n",
    "**Unorderd List**\n",
    "- First item\n",
    "- Second item\n",
    "- Third item\n",
    "    - Indented item\n",
    "    - Indented item\n",
    "- Fourth item \n",
    "\n",
    "*use + Or * also to make list*\n",
    "\n",
    "#### Blockquotes\n",
    "Sigle blockquotes\n",
    ">Dorothy followed her through many of the beautiful rooms in her castle.\n",
    "\n",
    "multiple blockquotes\n",
    ">Dorothy followed her through many of the beautiful rooms in her castle.\n",
    ">\n",
    ">The Witch bade her clean the pots and kettles and sweep the floor and keep the fire fed with wood.\n",
    "\n",
    "Nested Blockquotes\n",
    ">Dorothy followed her through many of the beautiful rooms in her castle.\n",
    ">>The Witch bade her clean the pots and kettles and sweep the floor and keep the fire fed with wood.\n",
    "\n",
    "Blockquotes with Other Elements\n",
    "> #### The quarterly results look great!\n",
    ">\n",
    "> - Revenue was off the chart.\n",
    "> - Profits were higher than ever.\n",
    ">\n",
    ">>  *Everything* is going according to **plan**.\n",
    "\n",
    "#### Code Blocks and Syntax Highlighting\n",
    "Code blocks are part of the Markdown spec, but syntax highlighting isn't. However, many renderers -- like Github's and Markdown Here -- support syntax highlighting. Which languages are supported and how those language names should be written will vary from renderer to renderer.\n",
    "\n",
    "Inline `code` has `back-ticks around` it.\n",
    "\n",
    "```javascript\n",
    "var s = \"JavaScript syntax highlighting\";\n",
    "alert(s);\n",
    "```\n",
    "\n",
    "```python\n",
    "s = \"Python syntax highlighting\"\n",
    "print s\n",
    "```\n",
    "#### Images\n",
    "**Inline-style:**\n",
    "![jupyter Notebook](image3-1.webp \"Logo Title Text 1\")\n",
    "\n",
    "**Refarence Style**\n",
    "![jupyter Notebook log][logo]\n",
    "\n",
    "\n",
    "\n",
    "\n",
    "\n",
    "[logo]: jopyter.png \"jupyter logo\""
   ]
  },
  {
   "cell_type": "code",
   "execution_count": 1,
   "metadata": {},
   "outputs": [
    {
     "name": "stdout",
     "output_type": "stream",
     "text": [
      "hello Masud\n"
     ]
    }
   ],
   "source": [
    "x = \"hello Masud\"\n",
    "print(x)"
   ]
  },
  {
   "cell_type": "code",
   "execution_count": 2,
   "metadata": {},
   "outputs": [
    {
     "data": {
      "text/plain": [
       "'hello Masud'"
      ]
     },
     "execution_count": 2,
     "metadata": {},
     "output_type": "execute_result"
    }
   ],
   "source": [
    "x"
   ]
  }
 ],
 "metadata": {
  "kernelspec": {
   "display_name": "Python 3",
   "language": "python",
   "name": "python3"
  },
  "language_info": {
   "codemirror_mode": {
    "name": "ipython",
    "version": 3
   },
   "file_extension": ".py",
   "mimetype": "text/x-python",
   "name": "python",
   "nbconvert_exporter": "python",
   "pygments_lexer": "ipython3",
   "version": "3.8.3"
  }
 },
 "nbformat": 4,
 "nbformat_minor": 4
}
