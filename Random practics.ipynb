{
 "cells": [
  {
   "cell_type": "code",
   "execution_count": null,
   "metadata": {},
   "outputs": [],
   "source": [
    "import json\n",
    "j= json.loads(open('pyScript/data.json',\"r\").read())\n"
   ]
  },
  {
   "cell_type": "code",
   "execution_count": null,
   "metadata": {
    "scrolled": true
   },
   "outputs": [],
   "source": [
    "j"
   ]
  },
  {
   "cell_type": "code",
   "execution_count": null,
   "metadata": {
    "scrolled": true
   },
   "outputs": [],
   "source": [
    "count =1\n",
    "for x in j:\n",
    "    print(\"data no\", count)\n",
    "    count+=1\n",
    "    for key,val in x.items():\n",
    "        print(key, \"  ==> \", val)\n",
    "        "
   ]
  },
  {
   "cell_type": "code",
   "execution_count": null,
   "metadata": {},
   "outputs": [],
   "source": [
    "import os\n",
    "from dotenv import load_dotenv, find_dotenv\n",
    "import psycopg2\n",
    "class Connction:\n",
    "    def __init__(self):\n",
    "        load_dotenv(find_dotenv())\n",
    "        self.DB_NAME = os.getenv('DB_NAME')\n",
    "        self.DB_USER = os.getenv('DB_USER')\n",
    "        self.DB_PASS = os.getenv('DB_PASS')\n",
    "        self.DB_HOST = os.getenv('DB_HOST')\n",
    "        self.DB_PORT = os.getenv('DB_PORT')\n",
    "\n",
    "    def makeConnection(self, db_name=\"\"):\n",
    "        db= db_name if db_name!=\"\" else self.DB_NAME\n",
    "        return psycopg2.connect(user=self.DB_USER,\n",
    "        password=self.DB_PASS,\n",
    "        host=self.DB_HOST,\n",
    "        port=self.DB_PORT,\n",
    "        database=db\n",
    "        )\n",
    "data = Connction()\n",
    "if data.makeConnection():\n",
    "    print(\"Connected\")\n",
    "else:\n",
    "    print(\"Error\")"
   ]
  },
  {
   "cell_type": "code",
   "execution_count": null,
   "metadata": {},
   "outputs": [],
   "source": [
    "from typing import Iterator, Dict, Any\n",
    "from urllib.parse import urlencode\n",
    "import requests\n",
    "\n",
    "\n",
    "def iter_beers_from_api(page_size: int = 5) -> Iterator[Dict[str, Any]]:\n",
    "    session = requests.Session()\n",
    "    page = 1\n",
    "    while True:\n",
    "        response = session.get('https://api.punkapi.com/v2/beers?' + urlencode({\n",
    "            'page': page,\n",
    "            'per_page': page_size\n",
    "        }))\n",
    "        response.raise_for_status()\n",
    "\n",
    "        data = response.json()\n",
    "        if not data:\n",
    "            break\n",
    "\n",
    "        yield from data\n",
    "\n",
    "        page += 1\n",
    "        \n",
    "\n",
    "beers = iter_beers_from_api()"
   ]
  },
  {
   "cell_type": "code",
   "execution_count": null,
   "metadata": {},
   "outputs": [],
   "source": [
    "next(beers)"
   ]
  },
  {
   "cell_type": "code",
   "execution_count": null,
   "metadata": {},
   "outputs": [],
   "source": [
    "beers = list(iter_beers_from_api()) * 5"
   ]
  },
  {
   "cell_type": "code",
   "execution_count": null,
   "metadata": {
    "scrolled": true
   },
   "outputs": [],
   "source": [
    "len(beers)"
   ]
  },
  {
   "cell_type": "code",
   "execution_count": null,
   "metadata": {},
   "outputs": [],
   "source": [
    "import datetime\n",
    "\n",
    "def parse_first_brewed(text: str) -> datetime.date:\n",
    "    parts = text.split('/')\n",
    "    if len(parts) == 2:\n",
    "        return datetime.date(int(parts[1]), int(parts[0]), 1)\n",
    "    elif len(parts) == 1:\n",
    "        return datetime.date(int(parts[0]), 1, 1)\n",
    "    else:\n",
    "        assert False, 'Unknown date format'"
   ]
  },
  {
   "cell_type": "code",
   "execution_count": null,
   "metadata": {},
   "outputs": [],
   "source": [
    "all_beers = [{\n",
    "            **beer,\n",
    "            'first_brewed': parse_first_brewed(beer['first_brewed']),\n",
    "            'volume': beer['volume']['value'],\n",
    "        } for beer in beers]"
   ]
  },
  {
   "cell_type": "code",
   "execution_count": null,
   "metadata": {},
   "outputs": [],
   "source": [
    "all_beers"
   ]
  },
  {
   "cell_type": "code",
   "execution_count": null,
   "metadata": {},
   "outputs": [],
   "source": []
  }
 ],
 "metadata": {
  "kernelspec": {
   "display_name": "Python 3",
   "language": "python",
   "name": "python3"
  },
  "language_info": {
   "codemirror_mode": {
    "name": "ipython",
    "version": 3
   },
   "file_extension": ".py",
   "mimetype": "text/x-python",
   "name": "python",
   "nbconvert_exporter": "python",
   "pygments_lexer": "ipython3",
   "version": "3.8.3"
  }
 },
 "nbformat": 4,
 "nbformat_minor": 4
}
