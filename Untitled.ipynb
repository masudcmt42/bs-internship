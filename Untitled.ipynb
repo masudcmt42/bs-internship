{
 "cells": [
  {
   "cell_type": "code",
   "execution_count": 34,
   "metadata": {},
   "outputs": [
    {
     "ename": "OperationalError",
     "evalue": "FATAL:  role \"masud\" does not exist\n",
     "output_type": "error",
     "traceback": [
      "\u001b[0;31m---------------------------------------------------------------------------\u001b[0m",
      "\u001b[0;31mOperationalError\u001b[0m                          Traceback (most recent call last)",
      "\u001b[0;32m<ipython-input-34-05df5ddafc75>\u001b[0m in \u001b[0;36m<module>\u001b[0;34m\u001b[0m\n\u001b[1;32m     20\u001b[0m         )\n\u001b[1;32m     21\u001b[0m \u001b[0mdata\u001b[0m \u001b[0;34m=\u001b[0m \u001b[0mConnction\u001b[0m\u001b[0;34m(\u001b[0m\u001b[0;34m)\u001b[0m\u001b[0;34m\u001b[0m\u001b[0;34m\u001b[0m\u001b[0m\n\u001b[0;32m---> 22\u001b[0;31m \u001b[0;32mif\u001b[0m \u001b[0mdata\u001b[0m\u001b[0;34m.\u001b[0m\u001b[0mmakeConnection\u001b[0m\u001b[0;34m(\u001b[0m\u001b[0;34m)\u001b[0m\u001b[0;34m:\u001b[0m\u001b[0;34m\u001b[0m\u001b[0;34m\u001b[0m\u001b[0m\n\u001b[0m\u001b[1;32m     23\u001b[0m     \u001b[0mprint\u001b[0m\u001b[0;34m(\u001b[0m\u001b[0;34m\"Connected\"\u001b[0m\u001b[0;34m)\u001b[0m\u001b[0;34m\u001b[0m\u001b[0;34m\u001b[0m\u001b[0m\n\u001b[1;32m     24\u001b[0m \u001b[0;32melse\u001b[0m\u001b[0;34m:\u001b[0m\u001b[0;34m\u001b[0m\u001b[0;34m\u001b[0m\u001b[0m\n",
      "\u001b[0;32m<ipython-input-34-05df5ddafc75>\u001b[0m in \u001b[0;36mmakeConnection\u001b[0;34m(self, db_name)\u001b[0m\n\u001b[1;32m     13\u001b[0m     \u001b[0;32mdef\u001b[0m \u001b[0mmakeConnection\u001b[0m\u001b[0;34m(\u001b[0m\u001b[0mself\u001b[0m\u001b[0;34m,\u001b[0m \u001b[0mdb_name\u001b[0m\u001b[0;34m=\u001b[0m\u001b[0;34m\"\"\u001b[0m\u001b[0;34m)\u001b[0m\u001b[0;34m:\u001b[0m\u001b[0;34m\u001b[0m\u001b[0;34m\u001b[0m\u001b[0m\n\u001b[1;32m     14\u001b[0m         \u001b[0mdb\u001b[0m\u001b[0;34m=\u001b[0m \u001b[0mdb_name\u001b[0m \u001b[0;32mif\u001b[0m \u001b[0mdb_name\u001b[0m\u001b[0;34m!=\u001b[0m\u001b[0;34m\"\"\u001b[0m \u001b[0;32melse\u001b[0m \u001b[0mself\u001b[0m\u001b[0;34m.\u001b[0m\u001b[0mDB_NAME\u001b[0m\u001b[0;34m\u001b[0m\u001b[0;34m\u001b[0m\u001b[0m\n\u001b[0;32m---> 15\u001b[0;31m         return psycopg2.connect(user=self.DB_USER,\n\u001b[0m\u001b[1;32m     16\u001b[0m         \u001b[0mpassword\u001b[0m\u001b[0;34m=\u001b[0m\u001b[0mself\u001b[0m\u001b[0;34m.\u001b[0m\u001b[0mDB_PASS\u001b[0m\u001b[0;34m,\u001b[0m\u001b[0;34m\u001b[0m\u001b[0;34m\u001b[0m\u001b[0m\n\u001b[1;32m     17\u001b[0m         \u001b[0mhost\u001b[0m\u001b[0;34m=\u001b[0m\u001b[0mself\u001b[0m\u001b[0;34m.\u001b[0m\u001b[0mDB_HOST\u001b[0m\u001b[0;34m,\u001b[0m\u001b[0;34m\u001b[0m\u001b[0;34m\u001b[0m\u001b[0m\n",
      "\u001b[0;32m~/anaconda3/lib/python3.8/site-packages/psycopg2/__init__.py\u001b[0m in \u001b[0;36mconnect\u001b[0;34m(dsn, connection_factory, cursor_factory, **kwargs)\u001b[0m\n\u001b[1;32m    125\u001b[0m \u001b[0;34m\u001b[0m\u001b[0m\n\u001b[1;32m    126\u001b[0m     \u001b[0mdsn\u001b[0m \u001b[0;34m=\u001b[0m \u001b[0m_ext\u001b[0m\u001b[0;34m.\u001b[0m\u001b[0mmake_dsn\u001b[0m\u001b[0;34m(\u001b[0m\u001b[0mdsn\u001b[0m\u001b[0;34m,\u001b[0m \u001b[0;34m**\u001b[0m\u001b[0mkwargs\u001b[0m\u001b[0;34m)\u001b[0m\u001b[0;34m\u001b[0m\u001b[0;34m\u001b[0m\u001b[0m\n\u001b[0;32m--> 127\u001b[0;31m     \u001b[0mconn\u001b[0m \u001b[0;34m=\u001b[0m \u001b[0m_connect\u001b[0m\u001b[0;34m(\u001b[0m\u001b[0mdsn\u001b[0m\u001b[0;34m,\u001b[0m \u001b[0mconnection_factory\u001b[0m\u001b[0;34m=\u001b[0m\u001b[0mconnection_factory\u001b[0m\u001b[0;34m,\u001b[0m \u001b[0;34m**\u001b[0m\u001b[0mkwasync\u001b[0m\u001b[0;34m)\u001b[0m\u001b[0;34m\u001b[0m\u001b[0;34m\u001b[0m\u001b[0m\n\u001b[0m\u001b[1;32m    128\u001b[0m     \u001b[0;32mif\u001b[0m \u001b[0mcursor_factory\u001b[0m \u001b[0;32mis\u001b[0m \u001b[0;32mnot\u001b[0m \u001b[0;32mNone\u001b[0m\u001b[0;34m:\u001b[0m\u001b[0;34m\u001b[0m\u001b[0;34m\u001b[0m\u001b[0m\n\u001b[1;32m    129\u001b[0m         \u001b[0mconn\u001b[0m\u001b[0;34m.\u001b[0m\u001b[0mcursor_factory\u001b[0m \u001b[0;34m=\u001b[0m \u001b[0mcursor_factory\u001b[0m\u001b[0;34m\u001b[0m\u001b[0;34m\u001b[0m\u001b[0m\n",
      "\u001b[0;31mOperationalError\u001b[0m: FATAL:  role \"masud\" does not exist\n"
     ]
    }
   ],
   "source": [
    "import os\n",
    "from dotenv import load_dotenv, find_dotenv\n",
    "import psycopg2\n",
    "class Connction:\n",
    "    def __init__(self):\n",
    "        load_dotenv(find_dotenv())\n",
    "        self.DB_NAME = os.getenv('DB_NAME')\n",
    "        self.DB_USER = os.getenv('DB_USER')\n",
    "        self.DB_PASS = os.getenv('DB_PASS')\n",
    "        self.DB_HOST = os.getenv('DB_HOST')\n",
    "        self.DB_PORT = os.getenv('DB_PORT')\n",
    "\n",
    "    def makeConnection(self, db_name=\"\"):\n",
    "        db= db_name if db_name!=\"\" else self.DB_NAME\n",
    "        return psycopg2.connect(user=self.DB_USER,\n",
    "        password=self.DB_PASS,\n",
    "        host=self.DB_HOST,\n",
    "        port=self.DB_PORT,\n",
    "        database=db\n",
    "        )\n",
    "data = Connction()\n",
    "if data.makeConnection():\n",
    "    print(\"Connected\")\n",
    "else:\n",
    "    print(\"Error\")\n"
   ]
  },
  {
   "cell_type": "code",
   "execution_count": 1,
   "metadata": {},
   "outputs": [],
   "source": [
    "import json\n",
    "j= json.loads(open('pyScript/data.json',\"r\").read())\n"
   ]
  },
  {
   "cell_type": "code",
   "execution_count": 2,
   "metadata": {},
   "outputs": [
    {
     "data": {
      "text/plain": [
       "[{'uuid': 4294967812,\n",
       "  'data': '2017-01-01',\n",
       "  'min': 11.0,\n",
       "  'max': 224.0,\n",
       "  'avg': 0.6326606157518295},\n",
       " {'uuid': 4294967813,\n",
       "  'data': '2017-01-01',\n",
       "  'min': 0.0,\n",
       "  'max': 224.0,\n",
       "  'avg': 12.007262137125508},\n",
       " {'uuid': 4294967814,\n",
       "  'data': '2017-01-01',\n",
       "  'min': 0.0,\n",
       "  'max': 221.0,\n",
       "  'avg': 1.8937921083843832},\n",
       " {'uuid': 4294967815,\n",
       "  'data': '2017-01-01',\n",
       "  'min': 0.0,\n",
       "  'max': 224.0,\n",
       "  'avg': 0.6326606157518295},\n",
       " {'uuid': 4294967821,\n",
       "  'data': '2017-01-01',\n",
       "  'min': 0.0,\n",
       "  'max': 224.0,\n",
       "  'avg': 0.6814464996283178},\n",
       " {'uuid': 4294967822,\n",
       "  'data': '2020-03-01',\n",
       "  'min': 0.0,\n",
       "  'max': 224.0,\n",
       "  'avg': 0.4774881138517502},\n",
       " {'uuid': 4294967823,\n",
       "  'data': '2020-03-01',\n",
       "  'min': 0.0,\n",
       "  'max': 224.0,\n",
       "  'avg': 0.14748462883296992},\n",
       " {'uuid': 4294967824,\n",
       "  'data': '2020-03-01',\n",
       "  'min': 0.0,\n",
       "  'max': 224.0,\n",
       "  'avg': 1.098259853655537},\n",
       " {'uuid': 4294967825,\n",
       "  'data': '2017-01-01',\n",
       "  'min': 0.0,\n",
       "  'max': 224.0,\n",
       "  'avg': 0.873857551234046},\n",
       " {'uuid': 4294967826,\n",
       "  'data': '2017-01-01',\n",
       "  'min': 10.0,\n",
       "  'max': 224.0,\n",
       "  'avg': 0.873857551234046}]"
      ]
     },
     "execution_count": 2,
     "metadata": {},
     "output_type": "execute_result"
    }
   ],
   "source": [
    "j"
   ]
  },
  {
   "cell_type": "code",
   "execution_count": 27,
   "metadata": {},
   "outputs": [
    {
     "name": "stdout",
     "output_type": "stream",
     "text": [
      "data no 1\n",
      "uuid   ==>  4294967812\n",
      "data   ==>  2017-01-01\n",
      "min   ==>  11.0\n",
      "max   ==>  224.0\n",
      "avg   ==>  0.6326606157518295\n",
      "data no 2\n",
      "uuid   ==>  4294967813\n",
      "data   ==>  2017-01-01\n",
      "min   ==>  0.0\n",
      "max   ==>  224.0\n",
      "avg   ==>  12.007262137125508\n",
      "data no 3\n",
      "uuid   ==>  4294967814\n",
      "data   ==>  2017-01-01\n",
      "min   ==>  0.0\n",
      "max   ==>  221.0\n",
      "avg   ==>  1.8937921083843832\n",
      "data no 4\n",
      "uuid   ==>  4294967815\n",
      "data   ==>  2017-01-01\n",
      "min   ==>  0.0\n",
      "max   ==>  224.0\n",
      "avg   ==>  0.6326606157518295\n",
      "data no 5\n",
      "uuid   ==>  4294967821\n",
      "data   ==>  2017-01-01\n",
      "min   ==>  0.0\n",
      "max   ==>  224.0\n",
      "avg   ==>  0.6814464996283178\n",
      "data no 6\n",
      "uuid   ==>  4294967822\n",
      "data   ==>  2020-03-01\n",
      "min   ==>  0.0\n",
      "max   ==>  224.0\n",
      "avg   ==>  0.4774881138517502\n",
      "data no 7\n",
      "uuid   ==>  4294967823\n",
      "data   ==>  2020-03-01\n",
      "min   ==>  0.0\n",
      "max   ==>  224.0\n",
      "avg   ==>  0.14748462883296992\n",
      "data no 8\n",
      "uuid   ==>  4294967824\n",
      "data   ==>  2020-03-01\n",
      "min   ==>  0.0\n",
      "max   ==>  224.0\n",
      "avg   ==>  1.098259853655537\n",
      "data no 9\n",
      "uuid   ==>  4294967825\n",
      "data   ==>  2017-01-01\n",
      "min   ==>  0.0\n",
      "max   ==>  224.0\n",
      "avg   ==>  0.873857551234046\n"
     ]
    }
   ],
   "source": [
    "count =1\n",
    "for x in j:\n",
    "    print(\"data no\", count)\n",
    "    count+=1\n",
    "    for key,val in x.items():\n",
    "        print(key, \"  ==> \", val)\n",
    "        "
   ]
  },
  {
   "cell_type": "code",
   "execution_count": null,
   "metadata": {},
   "outputs": [],
   "source": []
  }
 ],
 "metadata": {
  "kernelspec": {
   "display_name": "Python 3",
   "language": "python",
   "name": "python3"
  },
  "language_info": {
   "codemirror_mode": {
    "name": "ipython",
    "version": 3
   },
   "file_extension": ".py",
   "mimetype": "text/x-python",
   "name": "python",
   "nbconvert_exporter": "python",
   "pygments_lexer": "ipython3",
   "version": "3.8.3"
  }
 },
 "nbformat": 4,
 "nbformat_minor": 4
}
