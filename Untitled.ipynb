{
 "cells": [
  {
   "cell_type": "code",
   "execution_count": 21,
   "metadata": {},
   "outputs": [],
   "source": [
    "import json\n",
    "j= json.loads(open('pyScript/data.json',\"r\").read())\n"
   ]
  },
  {
   "cell_type": "code",
   "execution_count": 22,
   "metadata": {},
   "outputs": [
    {
     "data": {
      "text/plain": [
       "[{'uuid': 4294967812,\n",
       "  'data': '2017-01-01',\n",
       "  'min': 11.0,\n",
       "  'max': 224.0,\n",
       "  'avg': 0.6326606157518295},\n",
       " {'uuid': 4294967813,\n",
       "  'data': '2017-01-01',\n",
       "  'min': 0.0,\n",
       "  'max': 224.0,\n",
       "  'avg': 12.007262137125508},\n",
       " {'uuid': 4294967814,\n",
       "  'data': '2017-01-01',\n",
       "  'min': 0.0,\n",
       "  'max': 221.0,\n",
       "  'avg': 1.8937921083843832},\n",
       " {'uuid': 4294967815,\n",
       "  'data': '2017-01-01',\n",
       "  'min': 0.0,\n",
       "  'max': 224.0,\n",
       "  'avg': 0.6326606157518295},\n",
       " {'uuid': 4294967821,\n",
       "  'data': '2017-01-01',\n",
       "  'min': 0.0,\n",
       "  'max': 224.0,\n",
       "  'avg': 0.6814464996283178},\n",
       " {'uuid': 4294967822,\n",
       "  'data': '2020-03-01',\n",
       "  'min': 0.0,\n",
       "  'max': 224.0,\n",
       "  'avg': 0.4774881138517502},\n",
       " {'uuid': 4294967823,\n",
       "  'data': '2020-03-01',\n",
       "  'min': 0.0,\n",
       "  'max': 224.0,\n",
       "  'avg': 0.14748462883296992},\n",
       " {'uuid': 4294967824,\n",
       "  'data': '2020-03-01',\n",
       "  'min': 0.0,\n",
       "  'max': 224.0,\n",
       "  'avg': 1.098259853655537},\n",
       " {'uuid': 4294967825,\n",
       "  'data': '2017-01-01',\n",
       "  'min': 0.0,\n",
       "  'max': 224.0,\n",
       "  'avg': 0.873857551234046}]"
      ]
     },
     "execution_count": 22,
     "metadata": {},
     "output_type": "execute_result"
    }
   ],
   "source": [
    "j"
   ]
  },
  {
   "cell_type": "code",
   "execution_count": 27,
   "metadata": {},
   "outputs": [
    {
     "name": "stdout",
     "output_type": "stream",
     "text": [
      "data no 1\n",
      "uuid   ==>  4294967812\n",
      "data   ==>  2017-01-01\n",
      "min   ==>  11.0\n",
      "max   ==>  224.0\n",
      "avg   ==>  0.6326606157518295\n",
      "data no 2\n",
      "uuid   ==>  4294967813\n",
      "data   ==>  2017-01-01\n",
      "min   ==>  0.0\n",
      "max   ==>  224.0\n",
      "avg   ==>  12.007262137125508\n",
      "data no 3\n",
      "uuid   ==>  4294967814\n",
      "data   ==>  2017-01-01\n",
      "min   ==>  0.0\n",
      "max   ==>  221.0\n",
      "avg   ==>  1.8937921083843832\n",
      "data no 4\n",
      "uuid   ==>  4294967815\n",
      "data   ==>  2017-01-01\n",
      "min   ==>  0.0\n",
      "max   ==>  224.0\n",
      "avg   ==>  0.6326606157518295\n",
      "data no 5\n",
      "uuid   ==>  4294967821\n",
      "data   ==>  2017-01-01\n",
      "min   ==>  0.0\n",
      "max   ==>  224.0\n",
      "avg   ==>  0.6814464996283178\n",
      "data no 6\n",
      "uuid   ==>  4294967822\n",
      "data   ==>  2020-03-01\n",
      "min   ==>  0.0\n",
      "max   ==>  224.0\n",
      "avg   ==>  0.4774881138517502\n",
      "data no 7\n",
      "uuid   ==>  4294967823\n",
      "data   ==>  2020-03-01\n",
      "min   ==>  0.0\n",
      "max   ==>  224.0\n",
      "avg   ==>  0.14748462883296992\n",
      "data no 8\n",
      "uuid   ==>  4294967824\n",
      "data   ==>  2020-03-01\n",
      "min   ==>  0.0\n",
      "max   ==>  224.0\n",
      "avg   ==>  1.098259853655537\n",
      "data no 9\n",
      "uuid   ==>  4294967825\n",
      "data   ==>  2017-01-01\n",
      "min   ==>  0.0\n",
      "max   ==>  224.0\n",
      "avg   ==>  0.873857551234046\n"
     ]
    }
   ],
   "source": [
    "count =1\n",
    "for x in j:\n",
    "    print(\"data no\", count)\n",
    "    count+=1\n",
    "    for key,val in x.items():\n",
    "        print(key, \"  ==> \", val)\n",
    "        "
   ]
  },
  {
   "cell_type": "code",
   "execution_count": null,
   "metadata": {},
   "outputs": [],
   "source": []
  }
 ],
 "metadata": {
  "kernelspec": {
   "display_name": "Python 3",
   "language": "python",
   "name": "python3"
  },
  "language_info": {
   "codemirror_mode": {
    "name": "ipython",
    "version": 3
   },
   "file_extension": ".py",
   "mimetype": "text/x-python",
   "name": "python",
   "nbconvert_exporter": "python",
   "pygments_lexer": "ipython3",
   "version": "3.8.3"
  }
 },
 "nbformat": 4,
 "nbformat_minor": 4
}
